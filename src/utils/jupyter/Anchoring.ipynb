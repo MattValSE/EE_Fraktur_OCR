{
 "cells": [
  {
   "cell_type": "markdown",
   "id": "6815bab3",
   "metadata": {},
   "source": [
    "# Anchored text"
   ]
  },
  {
   "cell_type": "code",
   "execution_count": null,
   "id": "eb54f5bc",
   "metadata": {},
   "outputs": [],
   "source": [
    "cd ../../.."
   ]
  },
  {
   "cell_type": "code",
   "execution_count": null,
   "id": "74c5af95",
   "metadata": {},
   "outputs": [],
   "source": [
    "import duckdb\n",
    "\n",
    "conn = duckdb.connect(\"duckdb/main.duckdb\")\n",
    "write_conn = duckdb.connect(\"duckdb/main.duckdb\") \n",
    "\n",
    "%load_ext sql\n",
    "%sql conn --alias duckdb\n",
    "\n"
   ]
  },
  {
   "cell_type": "code",
   "execution_count": null,
   "id": "50adf42f",
   "metadata": {},
   "outputs": [],
   "source": [
    " \n",
    "from src.utils.anchor_olmocr import get_anchor_text\n",
    "import os\n",
    "import xml.etree.ElementTree as ET\n",
    "from collections import defaultdict\n",
    "from PIL import Image,ImageOps\n",
    "import json\n",
    "import duckdb\n",
    "import pandas as pd\n",
    "\n",
    "pdf_path = '/mnt/3de36453-6164-4568-91b5-ae973509273e/Git/EE-Gothic-Script-OCR/src/datasets/bronze/scanned/postimeesew19390716.1.1/image/postimeesew19390716.1.1.pdf'\n",
    "\n",
    "anchor_text = get_anchor_text(pdf_path, 1, pdf_engine=\"pdfreport\")\n",
    "\n",
    "print(anchor_text)"
   ]
  },
  {
   "cell_type": "code",
   "execution_count": null,
   "id": "eb4c8522",
   "metadata": {},
   "outputs": [],
   "source": [
    "from src.utils.anchor_olmocr import get_anchor_text\n",
    "import os\n",
    "import xml.etree.ElementTree as ET\n",
    "from collections import defaultdict\n",
    "from PIL import Image,ImageOps\n",
    "import json\n",
    "import duckdb\n",
    "import pandas as pd\n",
    "write_conn = duckdb.connect(\"duckdb/main.duckdb\") \n",
    "\n",
    "\n",
    "for paper_name in os.listdir(\"src/datasets/bronze/scanned\"):\n",
    "        paper_path = os.path.join(\"src/datasets/bronze/scanned\", paper_name)\n",
    "        pdf_path = os.path.join(paper_path, \"image\",f\"{paper_name}.pdf\" )\n",
    "\n",
    "        if os.path.isfile(pdf_path):\n",
    "            # pdfreport gave the most detailed response\n",
    "            anchor_text = get_anchor_text(pdf_path, 1, pdf_engine=\"pdfreport\")\n",
    "\n",
    "            # Preset values from conversion of PDF to JPG\n",
    "            jpg_width = 2479\n",
    "            jpg_height = 3508\n",
    "\n",
    "            row_nbr = 0\n",
    "\n",
    "            lines = []\n",
    "\n",
    "            for row in anchor_text.splitlines():\n",
    "                if row_nbr < 2:\n",
    "                \n",
    "                    if row_nbr == 0:\n",
    "                        page_size_list = row.split(\" \")\n",
    "\n",
    "                        x_split = page_size_list[-1].split(\"x\")\n",
    "\n",
    "                        pdf_width = float(x_split[0])\n",
    "                        pdf_height  = float(x_split[1])\n",
    "\n",
    "                        row_nbr += 1\n",
    "                    else:\n",
    "                        row_nbr += 1\n",
    "                elif row.startswith('['):\n",
    "                    ct_split = row.split(']')\n",
    "                    coord = ct_split[0]  # Get text before the first ']'\n",
    "                    text = ct_split[1]\n",
    "                    text = text.strip()\n",
    "                    coord = coord.strip('[')   # Remove the '[' from the start\n",
    "                    coord = coord.split('x') # Output: 12.34, 56.78 etc.\n",
    "\n",
    "                    #x_img = (x_pdf / pdf_width) * img_width\n",
    "                    #_img = img_height - ((y_pdf / pdf_height) * img_height)\n",
    "                    x_img = int(float(coord[0]) / pdf_width *   jpg_width)\n",
    "                    y_img = int(jpg_height - (float(coord[1]) / pdf_height * jpg_height) )\n",
    "                    line = f\"{text} [{x_img},{y_img}] \\n \"\n",
    "                    lines.append(line)\n",
    "\n",
    "            block = ''.join(lines)\n",
    "            #print(block)\n",
    "            #break\n",
    "            df = pd.DataFrame([{\n",
    "            \"Newspaper\": paper_name,\n",
    "            \"Block\": \"All\",\n",
    "            \"Source\": 'anchoring.py',\n",
    "            \"Text\": {block},\n",
    "            'Type': 'N/A'\n",
    "            }])\n",
    "            #write_conn.register(\"df\", df)\n",
    "            #write_conn.execute(\"\"\"\n",
    "            #INSERT INTO Full_Text (Text, Source, Type,Block, Newspaper, Timestamp)\n",
    "            #SELECT df.Text, df.Source, df.Type,df.Block, df.Newspaper, CURRENT_TIMESTAMP\n",
    "            #FROM df\n",
    "            #WHERE NOT EXISTS(SELECT 1 FROM Full_Text WHERE\n",
    "            #df.Newspaper = Full_Text.Newspaper\n",
    "            #AND Full_Text.Source = df.Source\n",
    "            #AND Full_Text.Type = df.Type\n",
    "            #AND Full_Text.Block = df.Block\n",
    "            #           )\n",
    "            #\"\"\")\n",
    "\n",
    "                \n",
    "\n"
   ]
  },
  {
   "cell_type": "code",
   "execution_count": null,
   "id": "54c74988",
   "metadata": {},
   "outputs": [],
   "source": [
    "%%sql\n",
    "SELECT *   FROM Full_Text anc\n",
    "                 WHERE\n",
    "                 1=1\n",
    "                and Newspaper = 'postimeesew19390716.1.1'\n",
    "                 AND Source = 'split_blocks_pypdf'\n",
    "                and block = 'TB00040'\n",
    "      "
   ]
  },
  {
   "cell_type": "code",
   "execution_count": null,
   "id": "d9d10d96",
   "metadata": {},
   "outputs": [],
   "source": [
    "%%sql\n",
    "--DELETE \n",
    "FROM Full_Text anc\n",
    "                 WHERE\n",
    "                 1=1\n",
    "                --and Newspaper = 'postimeesew19390716.1.1'\n",
    "                 AND Source = 'split_blocks_pypdf'\n",
    "                --and block = 'TB00040'"
   ]
  },
  {
   "cell_type": "code",
   "execution_count": null,
   "id": "7d82d9ed",
   "metadata": {},
   "outputs": [],
   "source": [
    "conn.close()\n",
    "write_conn.close()"
   ]
  }
 ],
 "metadata": {
  "kernelspec": {
   "display_name": "atm_2023",
   "language": "python",
   "name": "python3"
  },
  "language_info": {
   "codemirror_mode": {
    "name": "ipython",
    "version": 3
   },
   "file_extension": ".py",
   "mimetype": "text/x-python",
   "name": "python",
   "nbconvert_exporter": "python",
   "pygments_lexer": "ipython3",
   "version": "3.11.5"
  }
 },
 "nbformat": 4,
 "nbformat_minor": 5
}
