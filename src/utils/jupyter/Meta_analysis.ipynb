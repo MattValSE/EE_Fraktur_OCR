{
 "cells": [
  {
   "cell_type": "code",
   "execution_count": null,
   "id": "ac017356",
   "metadata": {},
   "outputs": [],
   "source": [
    "pip install ipython-sql pandas duckdb jupysql pandas matplotlib duckdb-engine --quiet"
   ]
  },
  {
   "cell_type": "code",
   "execution_count": null,
   "id": "b833c272",
   "metadata": {},
   "outputs": [],
   "source": [
    "%config SqlMagic.autopandas = True\n",
    "%config SqlMagic.feedback = False\n",
    "%config SqlMagic.displaycon = False\n",
    "import duckdb\n",
    "import pandas as pd\n",
    "\n",
    "%load_ext sql\n",
    "conn = duckdb.connect()\n",
    "%sql conn --alias duckdb"
   ]
  },
  {
   "cell_type": "code",
   "execution_count": null,
   "id": "55830922",
   "metadata": {},
   "outputs": [],
   "source": [
    "metafile = \"src/datasets/bronze/metadata/block_correct_ind.txt\"\n",
    "transkribus_page_nbr = \"src/datasets/bronze/metadata/transkribus_input.txt\""
   ]
  },
  {
   "cell_type": "code",
   "execution_count": null,
   "id": "6d5e085c",
   "metadata": {},
   "outputs": [],
   "source": [
    "%%sql\n",
    "--DROP table IF EXISTS Metadata;\n",
    "CREATE TABLE Metadata (Newspaper VARCHAR, Block VARCHAR, Correct_Ind CHAR(3), Line_Amt INTEGER);\n",
    "INSERT INTO Metadata\n",
    "SELECT *\n",
    "FROM read_csv('../../datasets/bronze/metadata/block_correct_ind.txt',\n",
    "    delim = ';',\n",
    "    header = false,\n",
    "    columns = {\n",
    "        'Newspaper': 'VARCHAR',\n",
    "        'Block': 'VARCHAR',\n",
    "        'Correct_Ind': 'CHAR(1)',\n",
    "        'Line_Amt': 'INTEGER'\n",
    "    });\n"
   ]
  },
  {
   "cell_type": "code",
   "execution_count": null,
   "id": "890b32aa",
   "metadata": {},
   "outputs": [],
   "source": [
    "%%sql\n",
    "DROP table IF EXISTS Transkribus_Page_Nbr;\n",
    "CREATE TABLE Transkribus_Page_Nbr (Doc_Nbr INTEGER, Page_Nbr INTEGER, Newspaper VARCHAR);\n",
    " INSERT INTO Transkribus_Page_Nbr\n",
    " SELECT *\n",
    "FROM read_csv('../../transkribus/transkribus_input.txt',\n",
    "    delim = ' ',\n",
    "    header = false,\n",
    "    columns = {\n",
    "        'Doc_Nbr': 'INTEGER',\n",
    "        'Page_Nbr': 'INTEGER',\n",
    "        'Newspaper': 'VARCHAR'\n",
    "    });"
   ]
  },
  {
   "cell_type": "code",
   "execution_count": null,
   "id": "757ec780",
   "metadata": {
    "vscode": {
     "languageId": "sql"
    }
   },
   "outputs": [],
   "source": [
    "%%sql \n",
    "DROP table IF EXISTS State_of_Newspaper;\n",
    "CREATE TABLE State_of_Newspaper (Newspaper VARCHAR, Page_Nbr INTEGER, Doc_Nbr INTEGER, Full_Line_Amt INTEGER, Correct_Percent INTEGER);\n",
    "INSERT INTO State_of_Newspaper\n",
    "SELECT \n",
    "Newspaper,\n",
    "Page_Nbr,\n",
    "Doc_Nbr,\n",
    "Full_Line_Amt,\n",
    "CAST(Correct_Line_Percent AS INTEGER) AS Correct_Line_Percent\n",
    "--COUNT(*) AS Newspaper_Count\n",
    "FROM(\n",
    "SELECT MD.Newspaper,\n",
    "TPN.Page_Nbr,\n",
    "TPN.Doc_Nbr,\n",
    "SUM(CASE WHEN Correct_Ind = 'Y' THEN 1 ELSE 0 END) AS Correct_Count,\n",
    "SUM(CASE WHEN Correct_Ind = 'N/A' THEN 1 ELSE 0 END) AS NA_Value,\n",
    "COUNT(*) AS Total_Count,\n",
    "CAST(SUM(CASE WHEN Correct_Ind <> 'N' THEN 1 ELSE 0 END) * 100.0 / COUNT(*) AS INTEGER) AS Correct_Percent,\n",
    "SUM(CASE WHEN Correct_Ind = 'Y' THEN Line_Amt ELSE 0 END) AS Correct_Line_Amt,\n",
    "SUM(Line_Amt) AS Full_Line_Amt,\n",
    "Correct_Line_Amt * 100.0 / Full_Line_Amt AS Correct_Line_Percent\n",
    "FROM Metadata MD\n",
    "INNER JOIN Transkribus_Page_Nbr TPN\n",
    "ON MD.Newspaper = TPN.Newspaper \n",
    "GROUP BY MD.Newspaper, TPN.Page_Nbr,TPN.Doc_Nbr\n",
    "HAVING Correct_Count > 0\n",
    "AND Full_Line_Amt > 10\n",
    "ORDER BY Correct_Percent DESC\n",
    ") A; --WHERE Correct_Line_Percent >= 50;"
   ]
  },
  {
   "cell_type": "code",
   "execution_count": null,
   "id": "04f9d470",
   "metadata": {
    "vscode": {
     "languageId": "sql"
    }
   },
   "outputs": [],
   "source": [
    "%%sql\n",
    "SELECT * FROM State_of_Newspaper ORDER BY Correct_Percent DESC, Full_Line_Amt DESC"
   ]
  },
  {
   "cell_type": "code",
   "execution_count": null,
   "id": "48ce222e",
   "metadata": {},
   "outputs": [],
   "source": [
    "%%sql \n",
    "\n",
    "-- COPY State_of_Newspaper TO '../transkribus.csv' (HEADER, DELIMITER ',');\n",
    "COPY\n",
    "    State_of_Newspaper\n",
    "    TO '../../../duckdb/state.parquet'\n",
    "    (FORMAT parquet);\n",
    "\n",
    "COPY\n",
    "    Metadata\n",
    "    TO '../../../duckdb/block_quality.parquet'\n",
    "    (FORMAT parquet);\n",
    "\n",
    "COPY\n",
    "    Transkribus_Page_Nbr\n",
    "    TO '../../../duckdb/transkribus_metadata.parquet'\n",
    "    (FORMAT parquet);"
   ]
  }
 ],
 "metadata": {
  "kernelspec": {
   "display_name": "atm_2023",
   "language": "python",
   "name": "python3"
  },
  "language_info": {
   "codemirror_mode": {
    "name": "ipython",
    "version": 3
   },
   "file_extension": ".py",
   "mimetype": "text/x-python",
   "name": "python",
   "nbconvert_exporter": "python",
   "pygments_lexer": "ipython3",
   "version": "3.11.5"
  }
 },
 "nbformat": 4,
 "nbformat_minor": 5
}
